{
  "nbformat": 4,
  "nbformat_minor": 0,
  "metadata": {
    "colab": {
      "name": "Glove.ipynb",
      "provenance": []
    },
    "kernelspec": {
      "name": "python3",
      "display_name": "Python 3"
    }
  },
  "cells": [
    {
      "cell_type": "code",
      "metadata": {
        "id": "XZrmkj1epQXP",
        "colab_type": "code",
        "colab": {}
      },
      "source": [
        "#Импорт необходимых библиотек\n",
        "import torch\n",
        "from torch.autograd import Variable\n",
        "import numpy as np\n",
        "import torch.functional as F\n",
        "import torch.nn.functional as F\n"
      ],
      "execution_count": 0,
      "outputs": []
    },
    {
      "cell_type": "code",
      "metadata": {
        "id": "7sPrxraRpW2o",
        "colab_type": "code",
        "colab": {}
      },
      "source": [
        "#Первоначальный текст\n",
        "corpus_sentence = ['A GloVe implementation in a Python ']"
      ],
      "execution_count": 0,
      "outputs": []
    },
    {
      "cell_type": "code",
      "metadata": {
        "id": "PXzybySkpW58",
        "colab_type": "code",
        "outputId": "42e22f8e-e954-4b9d-a5fb-252143be65d1",
        "colab": {
          "base_uri": "https://localhost:8080/",
          "height": 35
        }
      },
      "source": [
        "#Функция разделяющая текст по словам\n",
        "def tokenize_corpus(corpus_sentence):\n",
        "    tokens = [x.lower().split() for x in corpus_sentence]\n",
        "    return tokens\n",
        "\n",
        "tokens = tokenize_corpus(corpus_sentence)\n",
        "tokens = tokens\n",
        "tokens"
      ],
      "execution_count": 215,
      "outputs": [
        {
          "output_type": "execute_result",
          "data": {
            "text/plain": [
              "[['a', 'glove', 'implementation', 'in', 'a', 'python']]"
            ]
          },
          "metadata": {
            "tags": []
          },
          "execution_count": 215
        }
      ]
    },
    {
      "cell_type": "code",
      "metadata": {
        "id": "Wg2LRrMzpW_A",
        "colab_type": "code",
        "colab": {}
      },
      "source": [
        "#Создание словаря с уникальными словами и присваивание им индекса\n",
        "from scipy import sparse\n",
        "vocabulary = []\n",
        "for sentence in tokens:\n",
        "    for token in sentence:\n",
        "        if token not in vocabulary:\n",
        "            vocabulary.append(token)\n",
        "\n",
        "word2idx = {w: idx for (idx, w) in enumerate(vocabulary)}\n",
        "idx2word = {idx: w for (idx, w) in enumerate(vocabulary)}\n",
        "\n",
        "vocabulary_size = len(vocabulary)\n",
        "token_size=len(tokens)"
      ],
      "execution_count": 0,
      "outputs": []
    },
    {
      "cell_type": "code",
      "metadata": {
        "id": "t9EuR-RqugrS",
        "colab_type": "code",
        "colab": {
          "base_uri": "https://localhost:8080/",
          "height": 35
        },
        "outputId": "282c25c8-36b1-4c77-b86a-8b917741c851"
      },
      "source": [
        "word2idx"
      ],
      "execution_count": 217,
      "outputs": [
        {
          "output_type": "execute_result",
          "data": {
            "text/plain": [
              "{'a': 0, 'glove': 1, 'implementation': 2, 'in': 3, 'python': 4}"
            ]
          },
          "metadata": {
            "tags": []
          },
          "execution_count": 217
        }
      ]
    },
    {
      "cell_type": "code",
      "metadata": {
        "id": "Dlw-vCc6p-ma",
        "colab_type": "code",
        "colab": {}
      },
      "source": [
        "#Создание матрицы совстречаемости слов\n",
        "cooc=np.zeros((vocabulary_size,vocabulary_size))\n",
        "\n",
        "\n",
        "token = tokens[0]\n",
        "\n",
        "for idx in range (len(token)-1):\n",
        "    ind1 = word2idx[token[idx]]\n",
        "    ind2 = word2idx[token[idx+1]]\n",
        "    \n",
        "    cooc[ind1,ind2]+=1\n"
      ],
      "execution_count": 0,
      "outputs": []
    },
    {
      "cell_type": "code",
      "metadata": {
        "colab_type": "code",
        "id": "hwUPLGRmqhXP",
        "outputId": "75ad7954-5281-4b12-a82f-e788d164664b",
        "colab": {
          "base_uri": "https://localhost:8080/",
          "height": 108
        }
      },
      "source": [
        "cooc"
      ],
      "execution_count": 219,
      "outputs": [
        {
          "output_type": "execute_result",
          "data": {
            "text/plain": [
              "array([[0., 1., 0., 0., 1.],\n",
              "       [0., 0., 1., 0., 0.],\n",
              "       [0., 0., 0., 1., 0.],\n",
              "       [1., 0., 0., 0., 0.],\n",
              "       [0., 0., 0., 0., 0.]])"
            ]
          },
          "metadata": {
            "tags": []
          },
          "execution_count": 219
        }
      ]
    },
    {
      "cell_type": "code",
      "metadata": {
        "id": "Hc4c-BO9pXCe",
        "colab_type": "code",
        "colab": {}
      },
      "source": [
        "t_cooc = np.transpose(np.nonzero(cooc))"
      ],
      "execution_count": 0,
      "outputs": []
    },
    {
      "cell_type": "code",
      "metadata": {
        "id": "JOXrCv1SpW9U",
        "colab_type": "code",
        "colab": {
          "base_uri": "https://localhost:8080/",
          "height": 108
        },
        "outputId": "e282be90-0882-43ff-c095-225f4a2aa1fb"
      },
      "source": [
        "t_cooc"
      ],
      "execution_count": 221,
      "outputs": [
        {
          "output_type": "execute_result",
          "data": {
            "text/plain": [
              "array([[0, 1],\n",
              "       [0, 4],\n",
              "       [1, 2],\n",
              "       [2, 3],\n",
              "       [3, 0]])"
            ]
          },
          "metadata": {
            "tags": []
          },
          "execution_count": 221
        }
      ]
    },
    {
      "cell_type": "code",
      "metadata": {
        "id": "2DA0onpxA165",
        "colab_type": "code",
        "colab": {
          "base_uri": "https://localhost:8080/",
          "height": 255
        },
        "outputId": "6f986945-4e63-4e1e-fd03-2a98ad0d3cc4"
      },
      "source": [
        "# тут начинается читерство, загрузила готовую библиотеку глове\n",
        "! pip install glove_python"
      ],
      "execution_count": 164,
      "outputs": [
        {
          "output_type": "stream",
          "text": [
            "Collecting glove_python\n",
            "\u001b[?25l  Downloading https://files.pythonhosted.org/packages/3e/79/7e7e548dd9dcb741935d031117f4bed133276c2a047aadad42f1552d1771/glove_python-0.1.0.tar.gz (263kB)\n",
            "\r\u001b[K     |█▎                              | 10kB 18.6MB/s eta 0:00:01\r\u001b[K     |██▌                             | 20kB 6.8MB/s eta 0:00:01\r\u001b[K     |███▊                            | 30kB 9.5MB/s eta 0:00:01\r\u001b[K     |█████                           | 40kB 5.9MB/s eta 0:00:01\r\u001b[K     |██████▎                         | 51kB 7.1MB/s eta 0:00:01\r\u001b[K     |███████▌                        | 61kB 8.3MB/s eta 0:00:01\r\u001b[K     |████████▊                       | 71kB 9.4MB/s eta 0:00:01\r\u001b[K     |██████████                      | 81kB 10.5MB/s eta 0:00:01\r\u001b[K     |███████████▏                    | 92kB 11.7MB/s eta 0:00:01\r\u001b[K     |████████████▌                   | 102kB 9.3MB/s eta 0:00:01\r\u001b[K     |█████████████▊                  | 112kB 9.3MB/s eta 0:00:01\r\u001b[K     |███████████████                 | 122kB 9.3MB/s eta 0:00:01\r\u001b[K     |████████████████▏               | 133kB 9.3MB/s eta 0:00:01\r\u001b[K     |█████████████████▍              | 143kB 9.3MB/s eta 0:00:01\r\u001b[K     |██████████████████▊             | 153kB 9.3MB/s eta 0:00:01\r\u001b[K     |████████████████████            | 163kB 9.3MB/s eta 0:00:01\r\u001b[K     |█████████████████████▏          | 174kB 9.3MB/s eta 0:00:01\r\u001b[K     |██████████████████████▍         | 184kB 9.3MB/s eta 0:00:01\r\u001b[K     |███████████████████████▋        | 194kB 9.3MB/s eta 0:00:01\r\u001b[K     |█████████████████████████       | 204kB 9.3MB/s eta 0:00:01\r\u001b[K     |██████████████████████████▏     | 215kB 9.3MB/s eta 0:00:01\r\u001b[K     |███████████████████████████▍    | 225kB 9.3MB/s eta 0:00:01\r\u001b[K     |████████████████████████████▋   | 235kB 9.3MB/s eta 0:00:01\r\u001b[K     |█████████████████████████████▉  | 245kB 9.3MB/s eta 0:00:01\r\u001b[K     |███████████████████████████████▏| 256kB 9.3MB/s eta 0:00:01\r\u001b[K     |████████████████████████████████| 266kB 9.3MB/s \n",
            "\u001b[?25hRequirement already satisfied: numpy in /usr/local/lib/python3.6/dist-packages (from glove_python) (1.17.3)\n",
            "Requirement already satisfied: scipy in /usr/local/lib/python3.6/dist-packages (from glove_python) (1.3.1)\n",
            "Building wheels for collected packages: glove-python\n",
            "  Building wheel for glove-python (setup.py) ... \u001b[?25l\u001b[?25hdone\n",
            "  Created wheel for glove-python: filename=glove_python-0.1.0-cp36-cp36m-linux_x86_64.whl size=702694 sha256=5418c42c74fcfc13279ecfb20ea7827bcbc6823e6ec879f2a768352388c2de50\n",
            "  Stored in directory: /root/.cache/pip/wheels/88/4b/6d/10c0d2ad32c9d9d68beec9694a6f0b6e83ab1662a90a089a4b\n",
            "Successfully built glove-python\n",
            "Installing collected packages: glove-python\n",
            "Successfully installed glove-python-0.1.0\n"
          ],
          "name": "stdout"
        }
      ]
    },
    {
      "cell_type": "code",
      "metadata": {
        "id": "hcP9EP6bDzIR",
        "colab_type": "code",
        "colab": {
          "base_uri": "https://localhost:8080/",
          "height": 126
        },
        "outputId": "8a76e8bb-7910-412a-a273-06e196ae4e4e"
      },
      "source": [
        "import time\n",
        "import glove\n",
        "\n",
        "EMBEDDING_DIM = 10\n",
        "\n",
        "glove_corpus = glove.Corpus() \n",
        "\n",
        "glove_corpus.fit(tokens, window=10) \n",
        "\n",
        "\n",
        "glove = Glove(no_components=6, learning_rate=0.05)\n",
        " \n",
        "glove.fit(glove_corpus.matrix, epochs=5, no_threads=4, verbose=True)\n",
        "glove.add_dictionary(corpus.dictionary)\n",
        "glove.save('glove.model')"
      ],
      "execution_count": 224,
      "outputs": [
        {
          "output_type": "stream",
          "text": [
            "Performing 5 training epochs with 4 threads\n",
            "Epoch 0\n",
            "Epoch 1\n",
            "Epoch 2\n",
            "Epoch 3\n",
            "Epoch 4\n"
          ],
          "name": "stdout"
        }
      ]
    }
  ]
}